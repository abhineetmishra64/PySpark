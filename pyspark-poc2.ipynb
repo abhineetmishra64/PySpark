{
 "cells": [
  {
   "cell_type": "code",
   "execution_count": 2,
   "metadata": {},
   "outputs": [
    {
     "name": "stderr",
     "output_type": "stream",
     "text": [
      "23/09/21 11:08:07 WARN Utils: Your hostname, abhineet resolves to a loopback address: 127.0.1.1; using 192.168.1.11 instead (on interface wlp3s0)\n",
      "23/09/21 11:08:07 WARN Utils: Set SPARK_LOCAL_IP if you need to bind to another address\n",
      "Setting default log level to \"WARN\".\n",
      "To adjust logging level use sc.setLogLevel(newLevel). For SparkR, use setLogLevel(newLevel).\n",
      "23/09/21 11:08:07 WARN NativeCodeLoader: Unable to load native-hadoop library for your platform... using builtin-java classes where applicable\n"
     ]
    }
   ],
   "source": [
    "from pyspark.sql import SparkSession\n",
    "spark = SparkSession.builder.appName('Abhineet').getOrCreate()"
   ]
  },
  {
   "cell_type": "code",
   "execution_count": 3,
   "metadata": {},
   "outputs": [],
   "source": [
    "df_pySpark = spark.read.csv('Book1.csv',header=True, inferSchema=True)"
   ]
  },
  {
   "cell_type": "code",
   "execution_count": 4,
   "metadata": {},
   "outputs": [
    {
     "name": "stdout",
     "output_type": "stream",
     "text": [
      "+--------+----+----------+------+\n",
      "|    Name| Age|Experience|Salary|\n",
      "+--------+----+----------+------+\n",
      "|Abhineet|  24|         2| 45000|\n",
      "|  Rounak|  26|         2| 45000|\n",
      "|   Isita|  22|         2| 45000|\n",
      "|   Kirti|  26|         2| 50000|\n",
      "|   Ayush|  29|         8|150000|\n",
      "|    Amit|  30|        12|140000|\n",
      "|    Ravi|null|      null|100000|\n",
      "|    null|  12|         0|     0|\n",
      "|    null|  14|      null|  null|\n",
      "+--------+----+----------+------+\n",
      "\n"
     ]
    }
   ],
   "source": [
    "df_pySpark.show()\n"
   ]
  },
  {
   "cell_type": "code",
   "execution_count": 5,
   "metadata": {},
   "outputs": [
    {
     "name": "stdout",
     "output_type": "stream",
     "text": [
      "+--------+---+----------+------+\n",
      "|    Name|Age|Experience|Salary|\n",
      "+--------+---+----------+------+\n",
      "|Abhineet| 24|         2| 45000|\n",
      "|  Rounak| 26|         2| 45000|\n",
      "|   Isita| 22|         2| 45000|\n",
      "|   Kirti| 26|         2| 50000|\n",
      "|   Ayush| 29|         8|150000|\n",
      "|    Amit| 30|        12|140000|\n",
      "+--------+---+----------+------+\n",
      "\n"
     ]
    }
   ],
   "source": [
    "df_pySpark.na.drop().show()\n",
    "# na.drop() will drop rows which contains null or NA value"
   ]
  },
  {
   "cell_type": "code",
   "execution_count": 6,
   "metadata": {},
   "outputs": [
    {
     "name": "stdout",
     "output_type": "stream",
     "text": [
      "+--------+---+----------+------+\n",
      "|    Name|Age|Experience|Salary|\n",
      "+--------+---+----------+------+\n",
      "|Abhineet| 24|         2| 45000|\n",
      "|  Rounak| 26|         2| 45000|\n",
      "|   Isita| 22|         2| 45000|\n",
      "|   Kirti| 26|         2| 50000|\n",
      "|   Ayush| 29|         8|150000|\n",
      "|    Amit| 30|        12|140000|\n",
      "+--------+---+----------+------+\n",
      "\n"
     ]
    }
   ],
   "source": [
    "df_pySpark.na.drop(how = \"any\").show()\n",
    "# how = any will remove all rows which contains any number of NULL value\n",
    "# how = all will remove all rows for which all values are null"
   ]
  },
  {
   "cell_type": "code",
   "execution_count": 7,
   "metadata": {},
   "outputs": [
    {
     "name": "stdout",
     "output_type": "stream",
     "text": [
      "+--------+---+----------+------+\n",
      "|    Name|Age|Experience|Salary|\n",
      "+--------+---+----------+------+\n",
      "|Abhineet| 24|         2| 45000|\n",
      "|  Rounak| 26|         2| 45000|\n",
      "|   Isita| 22|         2| 45000|\n",
      "|   Kirti| 26|         2| 50000|\n",
      "|   Ayush| 29|         8|150000|\n",
      "|    Amit| 30|        12|140000|\n",
      "|    null| 12|         0|     0|\n",
      "+--------+---+----------+------+\n",
      "\n"
     ]
    }
   ],
   "source": [
    "# threshold\n",
    "df_pySpark.na.drop(how = \"any\", thresh= 3).show()\n",
    "# thresh will check for the count of non-null value and will remove all those rows "
   ]
  },
  {
   "cell_type": "code",
   "execution_count": 8,
   "metadata": {},
   "outputs": [
    {
     "name": "stdout",
     "output_type": "stream",
     "text": [
      "+--------+---+----------+------+\n",
      "|    Name|Age|Experience|Salary|\n",
      "+--------+---+----------+------+\n",
      "|Abhineet| 24|         2| 45000|\n",
      "|  Rounak| 26|         2| 45000|\n",
      "|   Isita| 22|         2| 45000|\n",
      "|   Kirti| 26|         2| 50000|\n",
      "|   Ayush| 29|         8|150000|\n",
      "|    Amit| 30|        12|140000|\n",
      "|    null| 12|         0|     0|\n",
      "+--------+---+----------+------+\n",
      "\n"
     ]
    }
   ],
   "source": [
    "# subset\n",
    "df_pySpark.na.drop(how=\"any\",subset = ['Experience']).show()\n",
    "# subset will check the value in individual coloumn"
   ]
  },
  {
   "cell_type": "code",
   "execution_count": 12,
   "metadata": {},
   "outputs": [
    {
     "name": "stdout",
     "output_type": "stream",
     "text": [
      "+-------------+----+----------+------+\n",
      "|         Name| Age|Experience|Salary|\n",
      "+-------------+----+----------+------+\n",
      "|     Abhineet|  24|         2| 45000|\n",
      "|       Rounak|  26|         2| 45000|\n",
      "|        Isita|  22|         2| 45000|\n",
      "|        Kirti|  26|         2| 50000|\n",
      "|        Ayush|  29|         8|150000|\n",
      "|         Amit|  30|        12|140000|\n",
      "|         Ravi|null|      null|100000|\n",
      "|Missing value|  12|         0|     0|\n",
      "|Missing value|  14|      null|  null|\n",
      "+-------------+----+----------+------+\n",
      "\n"
     ]
    }
   ],
   "source": [
    "# filling the missing values\n",
    "df_pySpark.na.fill('Missing value').show()"
   ]
  },
  {
   "cell_type": "code",
   "execution_count": 13,
   "metadata": {},
   "outputs": [
    {
     "name": "stdout",
     "output_type": "stream",
     "text": [
      "+--------+---+----------+------+\n",
      "|    Name|Age|Experience|Salary|\n",
      "+--------+---+----------+------+\n",
      "|Abhineet| 24|         2| 45000|\n",
      "|  Rounak| 26|         2| 45000|\n",
      "|   Isita| 22|         2| 45000|\n",
      "|   Kirti| 26|         2| 50000|\n",
      "|   Ayush| 29|         8|150000|\n",
      "|    Amit| 30|        12|140000|\n",
      "|    Ravi|  0|         0|100000|\n",
      "|    null| 12|         0|     0|\n",
      "|    null| 14|         0|     0|\n",
      "+--------+---+----------+------+\n",
      "\n"
     ]
    }
   ],
   "source": [
    "df_pySpark.na.fill(0).show()"
   ]
  },
  {
   "cell_type": "code",
   "execution_count": 15,
   "metadata": {},
   "outputs": [
    {
     "name": "stdout",
     "output_type": "stream",
     "text": [
      "+--------+---+----------+------+\n",
      "|    Name|Age|Experience|Salary|\n",
      "+--------+---+----------+------+\n",
      "|Abhineet| 24|         2| 45000|\n",
      "|  Rounak| 26|         2| 45000|\n",
      "|   Isita| 22|         2| 45000|\n",
      "|   Kirti| 26|         2| 50000|\n",
      "|   Ayush| 29|         8|150000|\n",
      "|    Amit| 30|        12|140000|\n",
      "|    Ravi|  0|         0|100000|\n",
      "|    null| 12|         0|     0|\n",
      "|    null| 14|         0|     0|\n",
      "+--------+---+----------+------+\n",
      "\n"
     ]
    }
   ],
   "source": [
    "df_pySpark.na.fill(0,['Experience','Age','Salary']).show()\n",
    "# it will fill the values in speific row"
   ]
  },
  {
   "cell_type": "code",
   "execution_count": 19,
   "metadata": {},
   "outputs": [],
   "source": [
    "from pyspark.ml.feature import Imputer\n",
    "\n",
    "imputer = Imputer(\n",
    "    inputCols=['Age','Experience','Salary'],\n",
    "    outputCols=[\"{}_imputed\".format(c) for c in ['Age','Experience','Salary']]\n",
    ").setStrategy('mean')\n",
    "\n",
    "# in this section, new cols have been made from inputCols as OutputCols and in outputCols null value is filled with mean strategy"
   ]
  },
  {
   "cell_type": "code",
   "execution_count": 20,
   "metadata": {},
   "outputs": [
    {
     "name": "stdout",
     "output_type": "stream",
     "text": [
      "+--------+----+----------+------+-----------+------------------+--------------+\n",
      "|    Name| Age|Experience|Salary|Age_imputed|Experience_imputed|Salary_imputed|\n",
      "+--------+----+----------+------+-----------+------------------+--------------+\n",
      "|Abhineet|  24|         2| 45000|         24|                 2|         45000|\n",
      "|  Rounak|  26|         2| 45000|         26|                 2|         45000|\n",
      "|   Isita|  22|         2| 45000|         22|                 2|         45000|\n",
      "|   Kirti|  26|         2| 50000|         26|                 2|         50000|\n",
      "|   Ayush|  29|         8|150000|         29|                 8|        150000|\n",
      "|    Amit|  30|        12|140000|         30|                12|        140000|\n",
      "|    Ravi|null|      null|100000|         22|                 4|        100000|\n",
      "|    null|  12|         0|     0|         12|                 0|             0|\n",
      "|    null|  14|      null|  null|         14|                 4|         71875|\n",
      "+--------+----+----------+------+-----------+------------------+--------------+\n",
      "\n"
     ]
    }
   ],
   "source": [
    "imputer.fit(df_pySpark).transform(df_pySpark).show()\n",
    "# Here imputer variable have been fitted in df_pySpark"
   ]
  }
 ],
 "metadata": {
  "kernelspec": {
   "display_name": "venv",
   "language": "python",
   "name": "python3"
  },
  "language_info": {
   "codemirror_mode": {
    "name": "ipython",
    "version": 3
   },
   "file_extension": ".py",
   "mimetype": "text/x-python",
   "name": "python",
   "nbconvert_exporter": "python",
   "pygments_lexer": "ipython3",
   "version": "3.11.4"
  },
  "orig_nbformat": 4
 },
 "nbformat": 4,
 "nbformat_minor": 2
}
