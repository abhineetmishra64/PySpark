{
 "cells": [
  {
   "cell_type": "markdown",
   "metadata": {},
   "source": []
  },
  {
   "cell_type": "code",
   "execution_count": 1,
   "metadata": {},
   "outputs": [],
   "source": [
    "from pyspark.sql import SparkSession"
   ]
  },
  {
   "cell_type": "code",
   "execution_count": 2,
   "metadata": {},
   "outputs": [
    {
     "name": "stderr",
     "output_type": "stream",
     "text": [
      "23/09/22 11:55:47 WARN Utils: Your hostname, abhineet resolves to a loopback address: 127.0.1.1; using 192.168.1.11 instead (on interface wlp3s0)\n",
      "23/09/22 11:55:47 WARN Utils: Set SPARK_LOCAL_IP if you need to bind to another address\n",
      "Setting default log level to \"WARN\".\n",
      "To adjust logging level use sc.setLogLevel(newLevel). For SparkR, use setLogLevel(newLevel).\n",
      "23/09/22 11:55:47 WARN NativeCodeLoader: Unable to load native-hadoop library for your platform... using builtin-java classes where applicable\n",
      "23/09/22 11:55:48 WARN Utils: Service 'SparkUI' could not bind on port 4040. Attempting port 4041.\n"
     ]
    }
   ],
   "source": [
    "spark = SparkSession.builder.appName('Abhineet').getOrCreate()"
   ]
  },
  {
   "cell_type": "code",
   "execution_count": 3,
   "metadata": {},
   "outputs": [
    {
     "name": "stdout",
     "output_type": "stream",
     "text": [
      "+------------+-----------+------+\n",
      "|        Name|Departments|Salary|\n",
      "+------------+-----------+------+\n",
      "|    Abhineet|        CSE| 45000|\n",
      "|     Anubhav|        CSE| 40000|\n",
      "|      Shreya|        ECE| 21000|\n",
      "|     Brishti|         IT| 25000|\n",
      "|Shivam Singh|      CIVIL| 15000|\n",
      "|       Bipin|         EE| 20000|\n",
      "|      Pratim|        ECE| 45000|\n",
      "|     Aanchal|        CSE| 60000|\n",
      "|     Brijesh|         IT|     0|\n",
      "+------------+-----------+------+\n",
      "\n"
     ]
    }
   ],
   "source": [
    "df_pyspark = spark.read.csv('department.csv', header=True, inferSchema=True)\n",
    "df_pyspark.show()"
   ]
  },
  {
   "cell_type": "code",
   "execution_count": 10,
   "metadata": {},
   "outputs": [
    {
     "name": "stdout",
     "output_type": "stream",
     "text": [
      "+-----------+-----------+\n",
      "|Departments|sum(Salary)|\n",
      "+-----------+-----------+\n",
      "|         EE|      20000|\n",
      "|        ECE|      66000|\n",
      "|      CIVIL|      15000|\n",
      "|         IT|      25000|\n",
      "|        CSE|     145000|\n",
      "+-----------+-----------+\n",
      "\n"
     ]
    }
   ],
   "source": [
    "# groupBy operation\n",
    "df_pyspark.groupBy('Departments').sum().show()"
   ]
  },
  {
   "cell_type": "code",
   "execution_count": 11,
   "metadata": {},
   "outputs": [
    {
     "name": "stdout",
     "output_type": "stream",
     "text": [
      "+-----------+------------------+\n",
      "|Departments|       avg(Salary)|\n",
      "+-----------+------------------+\n",
      "|         EE|           20000.0|\n",
      "|        ECE|           33000.0|\n",
      "|      CIVIL|           15000.0|\n",
      "|         IT|           12500.0|\n",
      "|        CSE|48333.333333333336|\n",
      "+-----------+------------------+\n",
      "\n"
     ]
    }
   ],
   "source": [
    "df_pyspark.groupBy('Departments').mean().show()"
   ]
  },
  {
   "cell_type": "code",
   "execution_count": 12,
   "metadata": {},
   "outputs": [
    {
     "name": "stdout",
     "output_type": "stream",
     "text": [
      "+-----------+-----+\n",
      "|Departments|count|\n",
      "+-----------+-----+\n",
      "|         EE|    1|\n",
      "|        ECE|    2|\n",
      "|      CIVIL|    1|\n",
      "|         IT|    2|\n",
      "|        CSE|    3|\n",
      "+-----------+-----+\n",
      "\n"
     ]
    }
   ],
   "source": [
    "df_pyspark.groupBy('Departments').count().show()"
   ]
  },
  {
   "cell_type": "code",
   "execution_count": 15,
   "metadata": {},
   "outputs": [
    {
     "name": "stdout",
     "output_type": "stream",
     "text": [
      "+-----------+-----------+\n",
      "|Departments|max(Salary)|\n",
      "+-----------+-----------+\n",
      "|         EE|      20000|\n",
      "|        ECE|      45000|\n",
      "|      CIVIL|      15000|\n",
      "|         IT|      25000|\n",
      "|        CSE|      60000|\n",
      "+-----------+-----------+\n",
      "\n"
     ]
    }
   ],
   "source": [
    "df_pyspark.groupBy('Departments').max().show()"
   ]
  },
  {
   "cell_type": "code",
   "execution_count": 16,
   "metadata": {},
   "outputs": [
    {
     "name": "stdout",
     "output_type": "stream",
     "text": [
      "+-----------+\n",
      "|sum(Salary)|\n",
      "+-----------+\n",
      "|     271000|\n",
      "+-----------+\n",
      "\n"
     ]
    }
   ],
   "source": [
    "df_pyspark.agg({'Salary':'sum'}).show()"
   ]
  }
 ],
 "metadata": {
  "kernelspec": {
   "display_name": "venv",
   "language": "python",
   "name": "python3"
  },
  "language_info": {
   "codemirror_mode": {
    "name": "ipython",
    "version": 3
   },
   "file_extension": ".py",
   "mimetype": "text/x-python",
   "name": "python",
   "nbconvert_exporter": "python",
   "pygments_lexer": "ipython3",
   "version": "3.11.4"
  },
  "orig_nbformat": 4
 },
 "nbformat": 4,
 "nbformat_minor": 2
}
